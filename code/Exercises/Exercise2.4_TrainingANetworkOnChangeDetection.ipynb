{
 "cells": [
  {
   "cell_type": "markdown",
   "id": "4bd33828-f8dc-419f-aac4-2bc9707ff89d",
   "metadata": {
    "tags": []
   },
   "source": [
    "<img src=\"../../code/Resources/cropped-SummerWorkshop_Header.png\">  \n",
    "\n",
    "<h1 align=\"center\">Hidden Markov Models on Neural Data Tutorial/Exercise</h1> \n",
    "<h3 align=\"center\">Summer Workshop on the Dynamic Brain</h3> \n",
    "<h4 align=\"center\">Day 4 Team</h4> "
   ]
  },
  {
   "cell_type": "markdown",
   "id": "4552cfcb-9ad8-4389-a87b-938a5cab35d4",
   "metadata": {},
   "source": [
    "<div style=\"background: #DFF0D8; border-radius: 3px; padding: 10px;\">\n",
    "    <p><b> Exercise 2.4</b> Can you train your own recurrant neural network on the change detection task?\n",
    "</div>"
   ]
  },
  {
   "cell_type": "markdown",
   "id": "289fd6ac-64d9-436d-88cd-d5bbb309700d",
   "metadata": {},
   "source": [
    "<div style=\"background: #DFF0D8; border-radius: 3px; padding: 10px;\">\n",
    "    <p>To explore this question, let's make some dramatic simplictions.\n",
    "    <p> * There is a task Oracle which executes the task optimally and it is willing to share its instruction with our naive network (this transforms a temporally sparse credit assignment problem into a 'supervised' one).\n",
    "    <p> * Our network can be trained in batches (we do not need to execute online or bioplausible learning rules here).\n",
    "    <p> * Our network does not see images, but instead will see stimulus vectors (here each stimulus represents a different image) which are turned on in a 1-hot manner in flashes. \n",
    "    <p> * Our networks output is a single number which we can call the 'licking rate'. The network must learn to supress 'licks' until it sees a change in stimulus. In the way, it must store a working memory against which to compare which stimulus was presented last.\n",
    "    <p> * Our network can be trained efficiently using Recursive least Squares to map stimulus changes onto internal dynamics and ultimately an output.\n",
    "</div>"
   ]
  },
  {
   "cell_type": "code",
   "execution_count": null,
   "id": "f3aad879-6a53-4598-a7f9-0c5fa4e640b0",
   "metadata": {},
   "outputs": [],
   "source": []
  }
 ],
 "metadata": {
  "kernelspec": {
   "display_name": "Python 3 (ipykernel)",
   "language": "python",
   "name": "python3"
  },
  "language_info": {
   "codemirror_mode": {
    "name": "ipython",
    "version": 3
   },
   "file_extension": ".py",
   "mimetype": "text/x-python",
   "name": "python",
   "nbconvert_exporter": "python",
   "pygments_lexer": "ipython3",
   "version": "3.9.12"
  }
 },
 "nbformat": 4,
 "nbformat_minor": 5
}
