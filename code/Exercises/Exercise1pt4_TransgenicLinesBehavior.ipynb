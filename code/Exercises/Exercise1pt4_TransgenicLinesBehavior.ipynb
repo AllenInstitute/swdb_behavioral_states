{
 "cells": [
  {
   "cell_type": "markdown",
   "id": "7300677c-ff18-4661-9771-f5802a8239e2",
   "metadata": {},
   "source": [
    "<div style=\"background: #DFF0D8; border-radius: 3px; padding: 10px;\">\n",
    "<p><b>Exercise 1.4: How do running speed, pupil size and hit rate correlate for different mice? Do different transgenic mouse lines have different behavioral state statistics?  </b>\n",
    "</div>"
   ]
  },
  {
   "cell_type": "markdown",
   "id": "7d0130ba-5ebe-40a8-b3f9-f045176b439f",
   "metadata": {},
   "source": [
    "<div style=\"background: #DFF0D8; border-radius: 3px; padding: 10px;\">\n",
    "<p><b>Exercise 1.5: Do different mice spend different amounts of time in “task engaged” vs “task disengaged” behavioral states? Make a histogram showing time in different states for a set of mice. \n",
    "</div>"
   ]
  },
  {
   "cell_type": "code",
   "execution_count": null,
   "id": "4a609d8d-7faa-4345-9e92-6ccde895af0a",
   "metadata": {},
   "outputs": [],
   "source": []
  }
 ],
 "metadata": {
  "kernelspec": {
   "display_name": "Python 3",
   "language": "python",
   "name": "python3"
  },
  "language_info": {
   "codemirror_mode": {
    "name": "ipython",
    "version": 3
   },
   "file_extension": ".py",
   "mimetype": "text/x-python",
   "name": "python",
   "nbconvert_exporter": "python",
   "pygments_lexer": "ipython3",
   "version": "3.9.12"
  }
 },
 "nbformat": 4,
 "nbformat_minor": 5
}
