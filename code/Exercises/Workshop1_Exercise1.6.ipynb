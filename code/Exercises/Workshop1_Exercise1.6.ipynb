{
 "cells": [
  {
   "cell_type": "markdown",
   "id": "291f8dfa-c827-44ea-b130-cc3d0c38c933",
   "metadata": {},
   "source": [
    "<div style=\"background: #DFF0D8; border-radius: 3px; padding: 10px;\">\n",
    "<p><b>Exercise 1.6: Can we use regression to predict state transition? </b>\n",
    "\n",
    "<p> 1) Construct a design matrix using behavior input covariates.  \n",
    "    \n",
    "<p> 2) Use a threshold to determine states using hit rate.\n",
    "\n",
    "<p> 3) Set up a regression model and evaluate model performance on state prediction. \n",
    "    \n",
    "</div>"
   ]
  },
  {
   "cell_type": "code",
   "execution_count": null,
   "id": "c15ba660-8293-4505-a7a7-07fa780aa177",
   "metadata": {},
   "outputs": [],
   "source": []
  }
 ],
 "metadata": {
  "kernelspec": {
   "display_name": "Python 3",
   "language": "python",
   "name": "python3"
  },
  "language_info": {
   "codemirror_mode": {
    "name": "ipython",
    "version": 3
   },
   "file_extension": ".py",
   "mimetype": "text/x-python",
   "name": "python",
   "nbconvert_exporter": "python",
   "pygments_lexer": "ipython3",
   "version": "3.9.12"
  }
 },
 "nbformat": 4,
 "nbformat_minor": 5
}
