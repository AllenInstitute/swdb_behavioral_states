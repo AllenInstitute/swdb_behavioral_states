{
 "cells": [
  {
   "cell_type": "markdown",
   "id": "5f07b981-47db-4228-ba36-798380473bfe",
   "metadata": {
    "tags": []
   },
   "source": [
    "<div style=\"background: #DFF0D8; border-radius: 3px; padding: 10px;\">\n",
    "<p><b>Exercise 1.5: Can we use regression to predict state transition? </b>\n",
    "\n",
    "<p> 1) Construct a design matrix using behavior input covariates.  \n",
    "    \n",
    "<p> 2) Use a threshold to determine states using hit rate.\n",
    "\n",
    "<p> 3) Set up a regression model and evaluate model performance on state prediction. \n",
    "    \n",
    "</div>"
   ]
  },
  {
   "cell_type": "code",
   "execution_count": null,
   "id": "3647ea58-fab7-49db-87d6-2acac3637c5a",
   "metadata": {},
   "outputs": [],
   "source": []
  }
 ],
 "metadata": {
  "kernelspec": {
   "display_name": "Python 3 (ipykernel)",
   "language": "python",
   "name": "python3"
  },
  "language_info": {
   "codemirror_mode": {
    "name": "ipython",
    "version": 3
   },
   "file_extension": ".py",
   "mimetype": "text/x-python",
   "name": "python",
   "nbconvert_exporter": "python",
   "pygments_lexer": "ipython3",
   "version": "3.9.12"
  }
 },
 "nbformat": 4,
 "nbformat_minor": 5
}
